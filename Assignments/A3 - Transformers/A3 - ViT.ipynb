{
 "cells": [
  {
   "cell_type": "markdown",
   "metadata": {},
   "source": [
    "# A3: Transformers\n",
    "\n",
    "In today's assignment, we will take a look at ViT (the vision transformer). Some of the material in this\n",
    "lab comes from the following online sources:\n",
    "\n",
    "- https://towardsdatascience.com/implementing-visualttransformer-in-pytorch-184f9f16f632\n",
    "- https://github.com/lucidrains/vit-pytorch#vision-transformer---pytorch\n",
    "- https://medium.com/mlearning-ai/vision-transformers-from-scratch-pytorch-a-step-by-step-guide-96c3313c2e0c\n",
    "\n",
    "PS. if you would like to learn more on how to implement transformers from scratch, please take a look at \n",
    "- https://medium.com/the-dl/transformers-from-scratch-in-pytorch-8777e346ca51\n",
    "- https://towardsdatascience.com/how-to-code-the-transformer-in-pytorch-24db27c8f9ec\n",
    "\n",
    "<img src=\"img/optimus_prime.jpg\" title=\"Transformer\" style=\"width: 600px;\" />\n",
    "\n",
    "(The above photo needs a credit!)"
   ]
  },
  {
   "cell_type": "markdown",
   "metadata": {},
   "source": [
    "## Vision Transformer (ViT)\n",
    "\n",
    "The Vision Transformer (ViT) is a transformer targeted at vision processing tasks. It has achieved state-of-the-art performance in image classification and (with some modification) other tasks. The ViT concept for image classification is as follows:\n",
    "\n",
    "<img src=\"img/vit.gif\" title=\"ViT\" />\n",
    "\n",
    "### How does ViT work?\n",
    "\n",
    "The steps of ViT are as follows:\n",
    "\n",
    "1. Split input image into patches\n",
    "2. Flatten the patches\n",
    "3. Produce linear embeddings from the flattened patches\n",
    "4. Add position embeddings\n",
    "5. Feed the sequence preceeded by a `[class]` token as input to a standard transformer encoder\n",
    "6. Pretrain the model to ouptut image labels for the `[class]` token (fully supervised on a huge dataset such as ImageNet-22K)\n",
    "7. Fine-tune on the downstream dataset for the specific image classification task"
   ]
  },
  {
   "cell_type": "markdown",
   "metadata": {},
   "source": [
    "### ViT architecture\n",
    "\n",
    "ViT is a Transformer encoder. In detail, it looks like this:\n",
    "\n",
    "<img src=\"img/ViTArchitecture.png\" title=\"ViT architecture\" />\n",
    "\n",
    "In the figure we see four main parts:\n",
    "<ol style=\"list-style-type:lower-alpha\">\n",
    "    <li> The high-level architecture of the model.</li>\n",
    "    <li> The Transformer module.</li>\n",
    "    <li> The multiscale self-attention (MSA) head.</li>\n",
    "    <li> An individual self-attention (SA) head.</li>\n",
    "</ol>"
   ]
  },
  {
   "cell_type": "markdown",
   "metadata": {},
   "source": [
    "### Let's start\n",
    "\n",
    "Let's do a small scale implementation with the MNIST dataset. The\n",
    "code here is based on [Brian Pulfer's paper reimplementation repository](https://github.com/BrianPulfer/PapersReimplementations)."
   ]
  },
  {
   "cell_type": "code",
   "execution_count": 1,
   "metadata": {},
   "outputs": [],
   "source": [
    "import numpy as np\n",
    "\n",
    "import torch\n",
    "import torch.nn as nn\n",
    "from torch.nn import CrossEntropyLoss\n",
    "from torch.optim import Adam\n",
    "from torch.utils.data import DataLoader\n",
    "\n",
    "from torchvision.datasets.mnist import MNIST\n",
    "from torchvision.transforms import ToTensor"
   ]
  },
  {
   "cell_type": "markdown",
   "metadata": {},
   "source": [
    "Import the MNIST dataset:"
   ]
  },
  {
   "cell_type": "code",
   "execution_count": 2,
   "metadata": {},
   "outputs": [],
   "source": [
    "# Loading data\n",
    "transform = ToTensor()\n",
    "\n",
    "from torchvision import datasets\n",
    "\n",
    "# mnist = datasets.MNIST(root='./data', download=True)\n",
    "\n",
    "\n",
    "# train_set = MNIST(root='./../datasets', train=True, download=True, transform=transform)\n",
    "# test_set = MNIST(root='./../datasets', train=False, download=True, transform=transform)\n",
    "\n",
    "\n",
    "# Download and load training dataset\n",
    "train_dataset = datasets.MNIST(\n",
    "    root='../../../data', \n",
    "    train=True,  # True for training set\n",
    "    download=True, \n",
    "    transform=transform\n",
    ")\n",
    "\n",
    "# Download and load test dataset\n",
    "test_dataset = datasets.MNIST(\n",
    "    root='../../../data', \n",
    "    train=False,  # False for test set\n",
    "    download=True, \n",
    "    transform=transform\n",
    ")\n",
    "\n",
    "train_loader = DataLoader(train_dataset, shuffle=True, batch_size=16)\n",
    "test_loader = DataLoader(test_dataset, shuffle=False, batch_size=16)"
   ]
  },
  {
   "cell_type": "markdown",
   "metadata": {},
   "source": [
    "### Train and test functions\n",
    "\n",
    "Next, let's create the train and test functions:"
   ]
  },
  {
   "cell_type": "code",
   "execution_count": 3,
   "metadata": {},
   "outputs": [],
   "source": [
    "def train_ViT_classify(model, optimizer, N_EPOCHS, train_loader, device=\"cpu\"):\n",
    "    criterion = CrossEntropyLoss()\n",
    "    for epoch in range(N_EPOCHS):\n",
    "        train_loss = 0.0\n",
    "        for batch in train_loader:\n",
    "            x, y = batch\n",
    "            x = x.to(device)\n",
    "            y = y.to(device)\n",
    "            y_hat = model(x)\n",
    "            loss = criterion(y_hat, y) / len(x)\n",
    "\n",
    "            train_loss += loss.item()\n",
    "\n",
    "            optimizer.zero_grad()\n",
    "            loss.backward()\n",
    "            optimizer.step()\n",
    "\n",
    "        print(f\"Epoch {epoch + 1}/{N_EPOCHS} loss: {train_loss:.2f}\")\n",
    "        \n",
    "def test_ViT_classify(model, optimizer, test_loader):\n",
    "    criterion = CrossEntropyLoss()\n",
    "    correct, total = 0, 0\n",
    "    test_loss = 0.0\n",
    "    for batch in test_loader:\n",
    "        x, y = batch\n",
    "        x = x.to(device)\n",
    "        y = y.to(device)\n",
    "        \n",
    "        y_hat = model(x)\n",
    "        loss = criterion(y_hat, y) / len(x)\n",
    "        test_loss += loss\n",
    "\n",
    "        correct += torch.sum(torch.argmax(y_hat, dim=1) == y).item()\n",
    "        total += len(x)\n",
    "    print(f\"Test loss: {test_loss:.2f}\")\n",
    "    print(f\"Test accuracy: {correct / total * 100:.2f}%\")"
   ]
  },
  {
   "cell_type": "markdown",
   "metadata": {},
   "source": [
    "### Multi-head Self Attention (MSA) Model\n",
    "\n",
    "As with the basic transformer above, to build the ViT model, we need to create a MSA module and put it\n",
    "together with the other elements.\n",
    "\n",
    "For a single image, self attention means that each patch's representation\n",
    "is updated based on its input token's similarity with those of the other patches.\n",
    "As before, we perform a linear mapping of each patch to three distinct vectors $q$, $k$, and $v$ (query, key, value).\n",
    "\n",
    "For each patch, we need to compute the dot product of its $q$ vector with all of the $k$ vectors, divide by the square root of the dimension\n",
    "of the vectors, then apply softmax to the result. The resulting matrix is called the matrix of attention cues.\n",
    "We multiply the attention cues with the $v$ vectors associated with the different input tokens and sum them all up.\n",
    "\n",
    "The input for each patch is transformed to a new value based on its similarity (after the linear mapping to $q$, $k$, and $v$) with other patches.\n",
    "\n",
    "However, the whole procedure is carried out $H$ times on $H$ sub-vectors of our current 8-dimensional patches, where $H$ is the number of heads.\n",
    "\n",
    "Once all results are obtained, they are concatenated together then passed through a linear layer.\n",
    "\n",
    "The MSA model looks like this:"
   ]
  },
  {
   "cell_type": "code",
   "execution_count": 4,
   "metadata": {},
   "outputs": [],
   "source": [
    "class MSA(nn.Module):\n",
    "    def __init__(self, d, n_heads=2):\n",
    "        super(MSA, self).__init__()\n",
    "        self.d = d\n",
    "        self.n_heads = n_heads\n",
    "\n",
    "        assert d % n_heads == 0, f\"Can't divide dimension {d} into {n_heads} heads\"\n",
    "\n",
    "        d_head = int(d / n_heads)\n",
    "        # Embeddings for q, k, and v. We use Sequential just so the list\n",
    "        # is registered as a module belonging to this module so that parameters\n",
    "        # get mapped to the correct device.\n",
    "        self.q_mappings = nn.Sequential(*[nn.Linear(d_head, d_head) for _ in range(self.n_heads)])\n",
    "        self.k_mappings = nn.Sequential(*[nn.Linear(d_head, d_head) for _ in range(self.n_heads)])\n",
    "        self.v_mappings = nn.Sequential(*[nn.Linear(d_head, d_head) for _ in range(self.n_heads)])\n",
    "        self.d_head = d_head\n",
    "        self.softmax = nn.Softmax(dim=-1)\n",
    "\n",
    "    def forward(self, sequences):\n",
    "        # Sequences has shape (N, seq_length, token_dim)\n",
    "        # We go into shape    (N, seq_length, n_heads, token_dim / n_heads)\n",
    "        # And come back to    (N, seq_length, item_dim)  (through concatenation)\n",
    "        result = []\n",
    "        for sequence in sequences:\n",
    "            seq_result = []\n",
    "            for head in range(self.n_heads):\n",
    "                q_mapping = self.q_mappings[head]\n",
    "                k_mapping = self.k_mappings[head]\n",
    "                v_mapping = self.v_mappings[head]\n",
    "\n",
    "                seq = sequence[:, head * self.d_head: (head + 1) * self.d_head]\n",
    "                q, k, v = q_mapping(seq), k_mapping(seq), v_mapping(seq)\n",
    "\n",
    "                attention = self.softmax(q @ k.T / (self.d_head ** 0.5))\n",
    "                seq_result.append(attention @ v)\n",
    "            result.append(torch.hstack(seq_result))\n",
    "        return torch.cat([torch.unsqueeze(r, dim=0) for r in result])"
   ]
  },
  {
   "cell_type": "markdown",
   "metadata": {},
   "source": [
    "**Note**: for each head, we create distinct Q, K, and V mapping functions (square matrices of size 4x4 in our example).\n",
    "\n",
    "Since our inputs will be sequences of size (N, 50, 8), and we only use 2 heads, we will at some point have an (N, 50, 2, 4) tensor, use a nn.Linear(4, 4) module on it, and then come back, after concatenation, to an (N, 50, 8) tensor."
   ]
  },
  {
   "cell_type": "markdown",
   "metadata": {},
   "source": [
    "### Position encoding\n",
    "\n",
    "The position encoding allows the model to understand where each patch is in the original image. While it is theoretically possible to learn\n",
    "such positional embeddings, the original Vaswani et al. Transformer uses a fixed position embedding representation that adds\n",
    "low-frequency values to the first dimension and higher-frequency values to the later dimensions, resulting in a code that is\n",
    "more similar for nearby tokens than far away tokens. For each token, we add to its j-th coordinate the value\n",
    "\n",
    "$$ p_{i,j} =\n",
    "\\left\\{\\begin{matrix}\n",
    "\\sin (\\frac{i}{10000^{j/d_{embdim}}})\\\\ \n",
    "\\cos (\\frac{i}{10000^{j/d_{embdim}}})\n",
    "\\end{matrix}\\right.\n",
    "$$\n",
    "\n",
    "We can visualize the position encoding matrix thusly:\n",
    "\n",
    "<img src=\"img/peimages.png\" title=\"\" style=\"width: 800px;\" />\n",
    "\n",
    "Here is an implementation:"
   ]
  },
  {
   "cell_type": "code",
   "execution_count": 5,
   "metadata": {},
   "outputs": [],
   "source": [
    "def get_positional_embeddings(sequence_length, d, device=\"cpu\"):\n",
    "    result = torch.ones(sequence_length, d)\n",
    "    for i in range(sequence_length):\n",
    "        for j in range(d):\n",
    "            result[i][j] = np.sin(i / (10000 ** (j / d))) if j % 2 == 0 else np.cos(i / (10000 ** ((j - 1) / d)))\n",
    "    return result.to(device)"
   ]
  },
  {
   "cell_type": "markdown",
   "metadata": {},
   "source": [
    "### ViT Model\n",
    "\n",
    "Create the ViT model as below. The explaination is later."
   ]
  },
  {
   "cell_type": "code",
   "execution_count": 6,
   "metadata": {},
   "outputs": [],
   "source": [
    "class ViT(nn.Module):\n",
    "    def __init__(self, input_shape, n_patches=7, hidden_d=8, n_heads=2, out_d=10):\n",
    "        # Super constructor\n",
    "        super(ViT, self).__init__()\n",
    "\n",
    "        # Input and patches sizes\n",
    "        self.input_shape = input_shape\n",
    "        self.n_patches = n_patches\n",
    "        self.n_heads = n_heads\n",
    "        assert input_shape[1] % n_patches == 0, \"Input shape not entirely divisible by number of patches\"\n",
    "        assert input_shape[2] % n_patches == 0, \"Input shape not entirely divisible by number of patches\"\n",
    "        self.patch_size = (input_shape[1] / n_patches, input_shape[2] / n_patches)\n",
    "        self.hidden_d = hidden_d\n",
    "\n",
    "        # 1) Linear mapper\n",
    "        self.input_d = int(input_shape[0] * self.patch_size[0] * self.patch_size[1])\n",
    "        self.linear_mapper = nn.Linear(self.input_d, self.hidden_d)\n",
    "\n",
    "        # 2) Classification token\n",
    "        self.class_token = nn.Parameter(torch.rand(1, self.hidden_d))\n",
    "\n",
    "        # 3) Positional embedding\n",
    "        # (In forward method)\n",
    "\n",
    "        # 4a) Layer normalization 1\n",
    "        self.ln1 = nn.LayerNorm((self.n_patches ** 2 + 1, self.hidden_d))\n",
    "\n",
    "        # 4b) Multi-head Self Attention (MSA) and classification token\n",
    "        self.msa = MSA(self.hidden_d, n_heads)\n",
    "\n",
    "        # 5a) Layer normalization 2\n",
    "        self.ln2 = nn.LayerNorm((self.n_patches ** 2 + 1, self.hidden_d))\n",
    "\n",
    "        # 5b) Encoder MLP\n",
    "        self.enc_mlp = nn.Sequential(\n",
    "            nn.Linear(self.hidden_d, self.hidden_d),\n",
    "            nn.ReLU()\n",
    "        )\n",
    "\n",
    "        # 6) Classification MLP\n",
    "        self.mlp = nn.Sequential(\n",
    "            nn.Linear(self.hidden_d, out_d),\n",
    "            nn.Softmax(dim=-1)\n",
    "        )\n",
    "\n",
    "    def forward(self, images):\n",
    "        # Dividing images into patches\n",
    "        n, c, w, h = images.shape\n",
    "        patches = images.reshape(n, self.n_patches ** 2, self.input_d)\n",
    "\n",
    "        # Running linear layer for tokenization\n",
    "        tokens = self.linear_mapper(patches)\n",
    "\n",
    "        # Adding classification token to the tokens\n",
    "        tokens = torch.stack([torch.vstack((self.class_token, tokens[i])) for i in range(len(tokens))])\n",
    "\n",
    "        # Adding positional embedding\n",
    "        tokens += get_positional_embeddings(self.n_patches ** 2 + 1, self.hidden_d, device).repeat(n, 1, 1)\n",
    "\n",
    "        # TRANSFORMER ENCODER BEGINS ###################################\n",
    "        # NOTICE: MULTIPLE ENCODER BLOCKS CAN BE STACKED TOGETHER ######\n",
    "        # Running Layer Normalization, MSA and residual connection\n",
    "        out = tokens + self.msa(self.ln1(tokens))\n",
    "\n",
    "        # Running Layer Normalization, MLP and residual connection\n",
    "        out = out + self.enc_mlp(self.ln2(out))\n",
    "        # TRANSFORMER ENCODER ENDS   ###################################\n",
    "\n",
    "        # Getting the classification token only\n",
    "        out = out[:, 0]\n",
    "\n",
    "        return self.mlp(out)"
   ]
  },
  {
   "cell_type": "markdown",
   "metadata": {},
   "source": [
    "#### Step 1: Patchifying and the linear mapping\n",
    "\n",
    "The transformer encoder was developed with sequence data in mind, such as English sentences. However, an image is not a sequence. Thus, we break it into multiple sub-images and map each sub-image to a vector.\n",
    "\n",
    "We do so by simply reshaping our input, which has size $(N, C, H, W)$ (in our example $(N, 1, 28, 28)$), to size (N, #Patches, Patch dimensionality), where the dimensionality of a patch is adjusted accordingly.\n",
    "\n",
    "In MNIST, we break each $(1, 28, 28)$ into 7x7 patches (hence, each of size 4x4). That is, we are going to obtain 7x7=49 sub-images out of a single image.\n",
    "\n",
    "$$(N,1,28,28) \\rightarrow (N,P\\times P, H \\times C/P  \\times W \\times C/P) \\rightarrow (N, 7\\times 7, 4\\times 4) \\rightarrow (N, 49, 16)$$\n",
    "\n",
    "<img src=\"img/patch.png\" title=\"an image is split into patches\" />"
   ]
  },
  {
   "cell_type": "markdown",
   "metadata": {},
   "source": [
    "#### Step 2: Adding the classification token\n",
    "\n",
    "When information about all other tokens will be present here, we will be able to classify the image using only this special token. The initial value of the special token (the one fed to the transformer encoder) is a parameter of the model that needs to be learned.\n",
    "\n",
    "We can now add a parameter to our model and convert our (N, 49, 8) tokens tensor to an (N, 50, 8) tensor (we add the special token to each sequence).\n",
    "\n",
    "Passing from (N,49,8) → (N,50,8) is probably sub-optimal. Also, notice that the classification token is put as the first token of each sequence. This will be important to keep in mind when we will then retrieve the classification token to feed to the final MLP."
   ]
  },
  {
   "cell_type": "markdown",
   "metadata": {},
   "source": [
    "#### Step 3: Positional encoding\n",
    "\n",
    "See above, as we mentioned.\n",
    "\n",
    "#### Step 4: LN, MSA, and Residual Connection\n",
    "\n",
    "The step is to apply layer normalization to the tokens, then apply MSA, and add a residual connection (add the input we had before applying LN).\n",
    "- **Layer normalization** is a popular block that, given an input, subtracts its mean and divides by the standard deviation.\n",
    "- **MSA**: same as the vanilla transformer.\n",
    "- **A residual connection** consists in just adding the original input to the result of some computation. This, intuitively, allows a network to become more powerful while also preserving the set of possible functions that the model can approximate.\n",
    "\n",
    "The residual connection is added at the original (N, 50, 8) tensor to the (N, 50, 8) obtained after LN and MSA."
   ]
  },
  {
   "cell_type": "markdown",
   "metadata": {},
   "source": [
    "#### Step 5: LN, MLP, and Residual Connection\n",
    "All that is left to the transformer encoder is just a simple residual connection between what we already have and what we get after passing the current tensor through another LN and an MLP.\n",
    "\n",
    "#### Step 6: Classification MLP\n",
    "Finally, we can extract just the classification token (first token) out of our N sequences, and use each token to get N classifications.\n",
    "Since we decided that each token is an 8-dimensional vector, and since we have 10 possible digits, we can implement the classification MLP as a simple 8x10 matrix, activated with the SoftMax function.\n",
    "\n",
    "The output of our model is now an (N, 10) tensor."
   ]
  },
  {
   "cell_type": "code",
   "execution_count": 7,
   "metadata": {},
   "outputs": [
    {
     "name": "stdout",
     "output_type": "stream",
     "text": [
      "cuda:2\n"
     ]
    }
   ],
   "source": [
    "device = torch.device(\"cuda:2\" if torch.cuda.is_available() else \"cpu\")\n",
    "print(device)"
   ]
  },
  {
   "cell_type": "code",
   "execution_count": 8,
   "metadata": {},
   "outputs": [],
   "source": [
    "model = ViT((1, 28, 28), n_patches=7, hidden_d=20, n_heads=2, out_d=10)\n",
    "model = model.to(device)\n",
    "\n",
    "N_EPOCHS = 5\n",
    "LR = 0.01\n",
    "optimizer = Adam(model.parameters(), lr=LR)"
   ]
  },
  {
   "cell_type": "code",
   "execution_count": 9,
   "metadata": {},
   "outputs": [
    {
     "name": "stdout",
     "output_type": "stream",
     "text": [
      "Epoch 1/10 loss: 426.00\n",
      "Epoch 2/10 loss: 416.18\n",
      "Epoch 3/10 loss: 445.17\n",
      "Epoch 4/10 loss: 490.03\n",
      "Epoch 5/10 loss: 426.15\n",
      "Epoch 6/10 loss: 423.82\n",
      "Epoch 7/10 loss: 469.76\n",
      "Epoch 8/10 loss: 457.58\n",
      "Epoch 9/10 loss: 440.10\n",
      "Epoch 10/10 loss: 453.73\n"
     ]
    }
   ],
   "source": [
    "train_ViT_classify(model, optimizer, N_EPOCHS, train_loader, device)"
   ]
  },
  {
   "cell_type": "code",
   "execution_count": 10,
   "metadata": {},
   "outputs": [
    {
     "name": "stdout",
     "output_type": "stream",
     "text": [
      "Test loss: 74.07\n",
      "Test accuracy: 56.48%\n"
     ]
    }
   ],
   "source": [
    "test_ViT_classify(model, optimizer, test_loader)"
   ]
  },
  {
   "cell_type": "markdown",
   "metadata": {},
   "source": [
    "## Pytorch ViT\n",
    "\n",
    "For a full implementation of ViT\n",
    "in PyTorch, we can use the\n",
    "[vit-pytorch package](https://github.com/lucidrains/vit-pytorch#vision-transformer---pytorch)."
   ]
  },
  {
   "cell_type": "code",
   "execution_count": null,
   "metadata": {},
   "outputs": [],
   "source": [
    "!pip install vit-pytorch"
   ]
  },
  {
   "cell_type": "markdown",
   "metadata": {},
   "source": [
    "### ViT Pytorch implementation"
   ]
  },
  {
   "cell_type": "code",
   "execution_count": 11,
   "metadata": {},
   "outputs": [],
   "source": [
    "import torch\n",
    "from vit_pytorch import ViT\n",
    "\n",
    "v = ViT(\n",
    "    image_size = 256,\n",
    "    patch_size = 32,\n",
    "    num_classes = 1000,\n",
    "    dim = 1024,\n",
    "    depth = 6,\n",
    "    heads = 16,\n",
    "    mlp_dim = 2048,\n",
    "    dropout = 0.1,\n",
    "    emb_dropout = 0.1\n",
    ")\n",
    "\n",
    "img = torch.randn(1, 3, 256, 256)\n",
    "\n",
    "preds = v(img) # (1, 1000)"
   ]
  },
  {
   "cell_type": "markdown",
   "metadata": {},
   "source": [
    "The implementation also contains a distillable ViT:"
   ]
  },
  {
   "cell_type": "code",
   "execution_count": 12,
   "metadata": {},
   "outputs": [
    {
     "name": "stderr",
     "output_type": "stream",
     "text": [
      "/home/jupyter-dsai-st123175/rtml_env/lib/python3.12/site-packages/torchvision/models/_utils.py:208: UserWarning: The parameter 'pretrained' is deprecated since 0.13 and may be removed in the future, please use 'weights' instead.\n",
      "  warnings.warn(\n",
      "/home/jupyter-dsai-st123175/rtml_env/lib/python3.12/site-packages/torchvision/models/_utils.py:223: UserWarning: Arguments other than a weight enum or `None` for 'weights' are deprecated since 0.13 and may be removed in the future. The current behavior is equivalent to passing `weights=ResNet50_Weights.IMAGENET1K_V1`. You can also use `weights=ResNet50_Weights.DEFAULT` to get the most up-to-date weights.\n",
      "  warnings.warn(msg)\n"
     ]
    }
   ],
   "source": [
    "import torch\n",
    "from torchvision.models import resnet50\n",
    "\n",
    "from vit_pytorch.distill import DistillableViT, DistillWrapper\n",
    "\n",
    "teacher = resnet50(pretrained = True)\n",
    "\n",
    "v = DistillableViT(\n",
    "    image_size = 256,\n",
    "    patch_size = 32,\n",
    "    num_classes = 1000,\n",
    "    dim = 1024,\n",
    "    depth = 6,\n",
    "    heads = 8,\n",
    "    mlp_dim = 2048,\n",
    "    dropout = 0.1,\n",
    "    emb_dropout = 0.1\n",
    ")\n",
    "\n",
    "distiller = DistillWrapper(\n",
    "    student = v,\n",
    "    teacher = teacher,\n",
    "    temperature = 3,           # temperature of distillation\n",
    "    alpha = 0.5,               # trade between main loss and distillation loss\n",
    "    hard = False               # whether to use soft or hard distillation\n",
    ")\n",
    "\n",
    "img = torch.randn(2, 3, 256, 256)\n",
    "labels = torch.randint(0, 1000, (2,))\n",
    "\n",
    "loss = distiller(img, labels)\n",
    "loss.backward()\n",
    "\n",
    "# after lots of training above ...\n",
    "\n",
    "pred = v(img) # (2, 1000)"
   ]
  },
  {
   "cell_type": "markdown",
   "metadata": {},
   "source": [
    "and so on..."
   ]
  },
  {
   "cell_type": "markdown",
   "metadata": {},
   "source": [
    "## Fine Tuning Torchvision ViT on Kaggle Sports Dataset\n",
    "\n",
    "We will use pretrained ViT(ViT base 16) model from torchvision to fine-tune on Kaggle sports-classification dataset. The detail description of the dataset and download link is given below.  \n",
    "\n",
    "Dataset Url:  \n",
    "https://www.kaggle.com/datasets/gpiosenka/sports-classification?resource=download\n",
    "\n",
    "The objectives are the following:  \n",
    "- To get fine-tuning experience from a medium large dataset.  \n",
    "- To effectively use the resources and hyperparameters such as batch size and learning rate.  \n",
    "- To get a knowledge on how to build your own custom dataset class.  \n",
    "- To obtain experience on minor but very useful python libraries such as tqdm, tensorboardX and matplotlib for visualization as well as tracking your training.\n",
    "- To gain your achievement on improving model performance with Vision Transformer.\n"
   ]
  },
  {
   "cell_type": "markdown",
   "metadata": {},
   "source": [
    "### Load the pretrained model"
   ]
  },
  {
   "cell_type": "code",
   "execution_count": 13,
   "metadata": {},
   "outputs": [
    {
     "name": "stdout",
     "output_type": "stream",
     "text": [
      "VisionTransformer(\n",
      "  (conv_proj): Conv2d(3, 768, kernel_size=(16, 16), stride=(16, 16))\n",
      "  (encoder): Encoder(\n",
      "    (dropout): Dropout(p=0.0, inplace=False)\n",
      "    (layers): Sequential(\n",
      "      (encoder_layer_0): EncoderBlock(\n",
      "        (ln_1): LayerNorm((768,), eps=1e-06, elementwise_affine=True)\n",
      "        (self_attention): MultiheadAttention(\n",
      "          (out_proj): NonDynamicallyQuantizableLinear(in_features=768, out_features=768, bias=True)\n",
      "        )\n",
      "        (dropout): Dropout(p=0.0, inplace=False)\n",
      "        (ln_2): LayerNorm((768,), eps=1e-06, elementwise_affine=True)\n",
      "        (mlp): MLPBlock(\n",
      "          (0): Linear(in_features=768, out_features=3072, bias=True)\n",
      "          (1): GELU(approximate='none')\n",
      "          (2): Dropout(p=0.0, inplace=False)\n",
      "          (3): Linear(in_features=3072, out_features=768, bias=True)\n",
      "          (4): Dropout(p=0.0, inplace=False)\n",
      "        )\n",
      "      )\n",
      "      (encoder_layer_1): EncoderBlock(\n",
      "        (ln_1): LayerNorm((768,), eps=1e-06, elementwise_affine=True)\n",
      "        (self_attention): MultiheadAttention(\n",
      "          (out_proj): NonDynamicallyQuantizableLinear(in_features=768, out_features=768, bias=True)\n",
      "        )\n",
      "        (dropout): Dropout(p=0.0, inplace=False)\n",
      "        (ln_2): LayerNorm((768,), eps=1e-06, elementwise_affine=True)\n",
      "        (mlp): MLPBlock(\n",
      "          (0): Linear(in_features=768, out_features=3072, bias=True)\n",
      "          (1): GELU(approximate='none')\n",
      "          (2): Dropout(p=0.0, inplace=False)\n",
      "          (3): Linear(in_features=3072, out_features=768, bias=True)\n",
      "          (4): Dropout(p=0.0, inplace=False)\n",
      "        )\n",
      "      )\n",
      "      (encoder_layer_2): EncoderBlock(\n",
      "        (ln_1): LayerNorm((768,), eps=1e-06, elementwise_affine=True)\n",
      "        (self_attention): MultiheadAttention(\n",
      "          (out_proj): NonDynamicallyQuantizableLinear(in_features=768, out_features=768, bias=True)\n",
      "        )\n",
      "        (dropout): Dropout(p=0.0, inplace=False)\n",
      "        (ln_2): LayerNorm((768,), eps=1e-06, elementwise_affine=True)\n",
      "        (mlp): MLPBlock(\n",
      "          (0): Linear(in_features=768, out_features=3072, bias=True)\n",
      "          (1): GELU(approximate='none')\n",
      "          (2): Dropout(p=0.0, inplace=False)\n",
      "          (3): Linear(in_features=3072, out_features=768, bias=True)\n",
      "          (4): Dropout(p=0.0, inplace=False)\n",
      "        )\n",
      "      )\n",
      "      (encoder_layer_3): EncoderBlock(\n",
      "        (ln_1): LayerNorm((768,), eps=1e-06, elementwise_affine=True)\n",
      "        (self_attention): MultiheadAttention(\n",
      "          (out_proj): NonDynamicallyQuantizableLinear(in_features=768, out_features=768, bias=True)\n",
      "        )\n",
      "        (dropout): Dropout(p=0.0, inplace=False)\n",
      "        (ln_2): LayerNorm((768,), eps=1e-06, elementwise_affine=True)\n",
      "        (mlp): MLPBlock(\n",
      "          (0): Linear(in_features=768, out_features=3072, bias=True)\n",
      "          (1): GELU(approximate='none')\n",
      "          (2): Dropout(p=0.0, inplace=False)\n",
      "          (3): Linear(in_features=3072, out_features=768, bias=True)\n",
      "          (4): Dropout(p=0.0, inplace=False)\n",
      "        )\n",
      "      )\n",
      "      (encoder_layer_4): EncoderBlock(\n",
      "        (ln_1): LayerNorm((768,), eps=1e-06, elementwise_affine=True)\n",
      "        (self_attention): MultiheadAttention(\n",
      "          (out_proj): NonDynamicallyQuantizableLinear(in_features=768, out_features=768, bias=True)\n",
      "        )\n",
      "        (dropout): Dropout(p=0.0, inplace=False)\n",
      "        (ln_2): LayerNorm((768,), eps=1e-06, elementwise_affine=True)\n",
      "        (mlp): MLPBlock(\n",
      "          (0): Linear(in_features=768, out_features=3072, bias=True)\n",
      "          (1): GELU(approximate='none')\n",
      "          (2): Dropout(p=0.0, inplace=False)\n",
      "          (3): Linear(in_features=3072, out_features=768, bias=True)\n",
      "          (4): Dropout(p=0.0, inplace=False)\n",
      "        )\n",
      "      )\n",
      "      (encoder_layer_5): EncoderBlock(\n",
      "        (ln_1): LayerNorm((768,), eps=1e-06, elementwise_affine=True)\n",
      "        (self_attention): MultiheadAttention(\n",
      "          (out_proj): NonDynamicallyQuantizableLinear(in_features=768, out_features=768, bias=True)\n",
      "        )\n",
      "        (dropout): Dropout(p=0.0, inplace=False)\n",
      "        (ln_2): LayerNorm((768,), eps=1e-06, elementwise_affine=True)\n",
      "        (mlp): MLPBlock(\n",
      "          (0): Linear(in_features=768, out_features=3072, bias=True)\n",
      "          (1): GELU(approximate='none')\n",
      "          (2): Dropout(p=0.0, inplace=False)\n",
      "          (3): Linear(in_features=3072, out_features=768, bias=True)\n",
      "          (4): Dropout(p=0.0, inplace=False)\n",
      "        )\n",
      "      )\n",
      "      (encoder_layer_6): EncoderBlock(\n",
      "        (ln_1): LayerNorm((768,), eps=1e-06, elementwise_affine=True)\n",
      "        (self_attention): MultiheadAttention(\n",
      "          (out_proj): NonDynamicallyQuantizableLinear(in_features=768, out_features=768, bias=True)\n",
      "        )\n",
      "        (dropout): Dropout(p=0.0, inplace=False)\n",
      "        (ln_2): LayerNorm((768,), eps=1e-06, elementwise_affine=True)\n",
      "        (mlp): MLPBlock(\n",
      "          (0): Linear(in_features=768, out_features=3072, bias=True)\n",
      "          (1): GELU(approximate='none')\n",
      "          (2): Dropout(p=0.0, inplace=False)\n",
      "          (3): Linear(in_features=3072, out_features=768, bias=True)\n",
      "          (4): Dropout(p=0.0, inplace=False)\n",
      "        )\n",
      "      )\n",
      "      (encoder_layer_7): EncoderBlock(\n",
      "        (ln_1): LayerNorm((768,), eps=1e-06, elementwise_affine=True)\n",
      "        (self_attention): MultiheadAttention(\n",
      "          (out_proj): NonDynamicallyQuantizableLinear(in_features=768, out_features=768, bias=True)\n",
      "        )\n",
      "        (dropout): Dropout(p=0.0, inplace=False)\n",
      "        (ln_2): LayerNorm((768,), eps=1e-06, elementwise_affine=True)\n",
      "        (mlp): MLPBlock(\n",
      "          (0): Linear(in_features=768, out_features=3072, bias=True)\n",
      "          (1): GELU(approximate='none')\n",
      "          (2): Dropout(p=0.0, inplace=False)\n",
      "          (3): Linear(in_features=3072, out_features=768, bias=True)\n",
      "          (4): Dropout(p=0.0, inplace=False)\n",
      "        )\n",
      "      )\n",
      "      (encoder_layer_8): EncoderBlock(\n",
      "        (ln_1): LayerNorm((768,), eps=1e-06, elementwise_affine=True)\n",
      "        (self_attention): MultiheadAttention(\n",
      "          (out_proj): NonDynamicallyQuantizableLinear(in_features=768, out_features=768, bias=True)\n",
      "        )\n",
      "        (dropout): Dropout(p=0.0, inplace=False)\n",
      "        (ln_2): LayerNorm((768,), eps=1e-06, elementwise_affine=True)\n",
      "        (mlp): MLPBlock(\n",
      "          (0): Linear(in_features=768, out_features=3072, bias=True)\n",
      "          (1): GELU(approximate='none')\n",
      "          (2): Dropout(p=0.0, inplace=False)\n",
      "          (3): Linear(in_features=3072, out_features=768, bias=True)\n",
      "          (4): Dropout(p=0.0, inplace=False)\n",
      "        )\n",
      "      )\n",
      "      (encoder_layer_9): EncoderBlock(\n",
      "        (ln_1): LayerNorm((768,), eps=1e-06, elementwise_affine=True)\n",
      "        (self_attention): MultiheadAttention(\n",
      "          (out_proj): NonDynamicallyQuantizableLinear(in_features=768, out_features=768, bias=True)\n",
      "        )\n",
      "        (dropout): Dropout(p=0.0, inplace=False)\n",
      "        (ln_2): LayerNorm((768,), eps=1e-06, elementwise_affine=True)\n",
      "        (mlp): MLPBlock(\n",
      "          (0): Linear(in_features=768, out_features=3072, bias=True)\n",
      "          (1): GELU(approximate='none')\n",
      "          (2): Dropout(p=0.0, inplace=False)\n",
      "          (3): Linear(in_features=3072, out_features=768, bias=True)\n",
      "          (4): Dropout(p=0.0, inplace=False)\n",
      "        )\n",
      "      )\n",
      "      (encoder_layer_10): EncoderBlock(\n",
      "        (ln_1): LayerNorm((768,), eps=1e-06, elementwise_affine=True)\n",
      "        (self_attention): MultiheadAttention(\n",
      "          (out_proj): NonDynamicallyQuantizableLinear(in_features=768, out_features=768, bias=True)\n",
      "        )\n",
      "        (dropout): Dropout(p=0.0, inplace=False)\n",
      "        (ln_2): LayerNorm((768,), eps=1e-06, elementwise_affine=True)\n",
      "        (mlp): MLPBlock(\n",
      "          (0): Linear(in_features=768, out_features=3072, bias=True)\n",
      "          (1): GELU(approximate='none')\n",
      "          (2): Dropout(p=0.0, inplace=False)\n",
      "          (3): Linear(in_features=3072, out_features=768, bias=True)\n",
      "          (4): Dropout(p=0.0, inplace=False)\n",
      "        )\n",
      "      )\n",
      "      (encoder_layer_11): EncoderBlock(\n",
      "        (ln_1): LayerNorm((768,), eps=1e-06, elementwise_affine=True)\n",
      "        (self_attention): MultiheadAttention(\n",
      "          (out_proj): NonDynamicallyQuantizableLinear(in_features=768, out_features=768, bias=True)\n",
      "        )\n",
      "        (dropout): Dropout(p=0.0, inplace=False)\n",
      "        (ln_2): LayerNorm((768,), eps=1e-06, elementwise_affine=True)\n",
      "        (mlp): MLPBlock(\n",
      "          (0): Linear(in_features=768, out_features=3072, bias=True)\n",
      "          (1): GELU(approximate='none')\n",
      "          (2): Dropout(p=0.0, inplace=False)\n",
      "          (3): Linear(in_features=3072, out_features=768, bias=True)\n",
      "          (4): Dropout(p=0.0, inplace=False)\n",
      "        )\n",
      "      )\n",
      "    )\n",
      "    (ln): LayerNorm((768,), eps=1e-06, elementwise_affine=True)\n",
      "  )\n",
      "  (heads): Sequential(\n",
      "    (head): Linear(in_features=768, out_features=1000, bias=True)\n",
      "  )\n",
      ")\n",
      "86.567656M\n"
     ]
    }
   ],
   "source": [
    "import torch\n",
    "import torch.nn as nn\n",
    "from torchvision.models import vit_b_16 as ViT, ViT_B_16_Weights\n",
    "model = ViT(weights=ViT_B_16_Weights.DEFAULT)\n",
    "\n",
    "# Count trainable parameters\n",
    "total_params = sum(p.numel() for p in model.parameters() if p.requires_grad)\n",
    "\n",
    "print(model)\n",
    "print(f\"{total_params/1000000}M\")"
   ]
  },
  {
   "cell_type": "markdown",
   "metadata": {},
   "source": [
    "### Change the classifier head\n",
    "\n",
    "The original ViT is trained on ImageNet dataset with 1,000 classes. We have to change it to our sport-classification dataset output which has 100 classes."
   ]
  },
  {
   "cell_type": "code",
   "execution_count": 14,
   "metadata": {},
   "outputs": [
    {
     "name": "stdout",
     "output_type": "stream",
     "text": [
      "cuda:1\n",
      "Classifier Head:  Sequential(\n",
      "  (0): Linear(in_features=768, out_features=100, bias=True)\n",
      ")\n"
     ]
    }
   ],
   "source": [
    "# Changed to out_features = 100\n",
    "model.heads = nn.Sequential(nn.Linear(in_features=768, out_features=100, bias=True))\n",
    "\n",
    "# Set the GPU Device\n",
    "device = 'cuda:1' if torch.cuda.is_available() else 'cpu'\n",
    "print(device)\n",
    "\n",
    "# Move the model to Device\n",
    "model.to(device)\n",
    "print(\"Classifier Head: \", model.heads)\n",
    "# Initiate the weights and biases\n",
    "for m in model.heads:\n",
    "    if isinstance(m, nn.Linear):\n",
    "        nn.init.xavier_uniform_(m.weight)\n",
    "        if m.bias is not None:\n",
    "            nn.init.normal_(m.bias, std=1e-6)\n",
    "    # print(m.weight)\n",
    "    # print(m.bias)"
   ]
  },
  {
   "cell_type": "markdown",
   "metadata": {},
   "source": [
    "### Custom dataset class\n",
    "dataset.py"
   ]
  },
  {
   "cell_type": "code",
   "execution_count": 15,
   "metadata": {},
   "outputs": [],
   "source": [
    "from torch.utils.data import Dataset\n",
    "import torch\n",
    "import cv2 # requires !pip3 install opencv-python\n",
    "import os\n",
    "import pandas as pd\n",
    "from skimage import io\n",
    "\n",
    "\n",
    "\n",
    "class SportDataset(Dataset):\n",
    "    \"\"\"Sport dataset.\"\"\"\n",
    "\n",
    "    def __init__(self, csv_file, root_dir, class_file, train=True, transform=None):\n",
    "        \"\"\"\n",
    "        Args:\n",
    "            csv_file (string): Path to the csv file with annotations.\n",
    "            class_file (string): Path to the csv file with class names and indices.\n",
    "            root_dir (string): Directory with all the images.\n",
    "            transform (callable, optional): Optional transform to be applied\n",
    "                on a sample.\n",
    "        \"\"\"\n",
    "        classes = pd.read_csv(class_file)\n",
    "        self.class_dict = {row[2]:row[0] for i, row in classes.iterrows()}\n",
    "\n",
    "        df = pd.read_csv(csv_file)\n",
    "        df.drop(index=5621, inplace=True)\n",
    "        \n",
    "        if train:\n",
    "            self.df = df[df['data set'] == 'train']\n",
    "        else:\n",
    "            self.df = df[df['data set'] == 'valid']\n",
    "\n",
    "        self.root_dir = root_dir\n",
    "        self.transform = transform\n",
    "\n",
    "    def __len__(self):\n",
    "        return len(self.df)\n",
    "\n",
    "    def __getitem__(self, idx):\n",
    "        if torch.is_tensor(idx):\n",
    "            idx = idx.tolist()\n",
    "\n",
    "        img_name = os.path.join(self.root_dir,\n",
    "                                self.df.iloc[idx, 1])\n",
    "        image = io.imread(img_name)\n",
    "\n",
    "        if image.shape[-1] != 3:\n",
    "            image = cv2.cvtColor(image,cv2.COLOR_GRAY2RGB)\n",
    "\n",
    "        if self.transform:\n",
    "            image = self.transform(image)\n",
    "\n",
    "        label_keys = self.df.iloc[idx, 2]\n",
    "        labels = self.class_dict[label_keys]\n",
    "        labels = float(labels)\n",
    "\n",
    "        sample = {'image': image, 'labels': labels}\n",
    "\n",
    "        return sample"
   ]
  },
  {
   "cell_type": "markdown",
   "metadata": {},
   "source": [
    "### Dataset Directories"
   ]
  },
  {
   "cell_type": "code",
   "execution_count": 16,
   "metadata": {},
   "outputs": [],
   "source": [
    "# csv_file = '/your/sport/dataset/directory/location/sports.csv'\n",
    "# class_file = '/your/sport/dataset/directory/location/sports.csv'\n",
    "# root_dir = '/your/sport/dataset/directory/\n",
    "\n",
    "csv_file = '/home/jupyter-dsai-st123175/dataset_sport/sports.csv'\n",
    "class_file = '/home/jupyter-dsai-st123175/dataset_sport/sports.csv'\n",
    "root_dir = '/home/jupyter-dsai-st123175/dataset_sport/'\n"
   ]
  },
  {
   "cell_type": "markdown",
   "metadata": {},
   "source": [
    "Utils.py"
   ]
  },
  {
   "cell_type": "code",
   "execution_count": 17,
   "metadata": {},
   "outputs": [],
   "source": [
    "import matplotlib.pyplot as plt\n",
    "import numpy as np\n",
    "from tqdm import tqdm\n",
    "import torch\n",
    "\n",
    "\n",
    "# Helper function for inline image display\n",
    "def matplotlib_imshow(img, one_channel=False):\n",
    "    if one_channel:\n",
    "        img = img.mean(dim=0)\n",
    "    img = img / 2 + 0.5     # unnormalize\n",
    "    npimg = img.numpy()\n",
    "    if one_channel:\n",
    "        plt.imshow(npimg, cmap=\"Greys\")\n",
    "    else:\n",
    "        plt.imshow(np.transpose(npimg, (1, 2, 0)))"
   ]
  },
  {
   "cell_type": "markdown",
   "metadata": {},
   "source": [
    "### Data loader and visualize image\n",
    "This script cannot be run if you are not using jupyter notebook (for eg. ssh). Another option is save the image and view in your local machine."
   ]
  },
  {
   "cell_type": "code",
   "execution_count": 18,
   "metadata": {},
   "outputs": [
    {
     "name": "stderr",
     "output_type": "stream",
     "text": [
      "/tmp/ipykernel_2540/2331788022.py:23: FutureWarning: Series.__getitem__ treating keys as positions is deprecated. In a future version, integer keys will always be treated as labels (consistent with DataFrame behavior). To access a value by position, use `ser.iloc[pos]`\n",
      "  self.class_dict = {row[2]:row[0] for i, row in classes.iterrows()}\n",
      "/tmp/ipykernel_2540/2331788022.py:23: FutureWarning: Series.__getitem__ treating keys as positions is deprecated. In a future version, integer keys will always be treated as labels (consistent with DataFrame behavior). To access a value by position, use `ser.iloc[pos]`\n",
      "  self.class_dict = {row[2]:row[0] for i, row in classes.iterrows()}\n",
      "/tmp/ipykernel_2540/132951541.py:35: FutureWarning: Series.__getitem__ treating keys as positions is deprecated. In a future version, integer keys will always be treated as labels (consistent with DataFrame behavior). To access a value by position, use `ser.iloc[pos]`\n",
      "  class_dict = { row[0]:row[1] for i, row in class_df.iterrows()}\n"
     ]
    },
    {
     "name": "stdout",
     "output_type": "stream",
     "text": [
      "class dict:  {0: 'valid/air hockey/5.jpg', 1: 'valid/ampute football/5.jpg', 2: 'valid/archery/5.jpg', 3: 'valid/arm wrestling/5.jpg', 4: 'valid/axe throwing/5.jpg', 5: 'valid/balance beam/5.jpg', 6: 'valid/barell racing/5.jpg', 7: 'valid/baseball/5.jpg', 8: 'valid/basketball/5.jpg', 9: 'valid/baton twirling/5.jpg', 10: 'valid/bike polo/5.jpg', 11: 'valid/billiards/5.jpg', 12: 'valid/bmx/5.jpg', 13: 'valid/bobsled/5.jpg', 14: 'valid/bowling/5.jpg', 15: 'valid/boxing/5.jpg', 16: 'valid/bull riding/5.jpg', 17: 'valid/bungee jumping/5.jpg', 18: 'valid/canoe slamon/5.jpg', 19: 'valid/cheerleading/5.jpg', 20: 'valid/chuckwagon racing/5.jpg', 21: 'valid/cricket/5.jpg', 22: 'valid/croquet/5.jpg', 23: 'valid/curling/5.jpg', 24: 'valid/disc golf/5.jpg', 25: 'valid/fencing/5.jpg', 26: 'valid/field hockey/5.jpg', 27: 'valid/figure skating men/5.jpg', 28: 'valid/figure skating pairs/5.jpg', 29: 'valid/figure skating women/5.jpg', 30: 'valid/fly fishing/5.jpg', 31: 'valid/football/5.jpg', 32: 'valid/formula 1 racing/5.jpg', 33: 'valid/frisbee/5.jpg', 34: 'valid/gaga/5.jpg', 35: 'valid/giant slalom/5.jpg', 36: 'valid/golf/5.jpg', 37: 'valid/hammer throw/5.jpg', 38: 'valid/hang gliding/5.jpg', 39: 'valid/harness racing/5.jpg', 40: 'valid/high jump/5.jpg', 41: 'valid/hockey/5.jpg', 42: 'valid/horse jumping/5.jpg', 43: 'valid/horse racing/5.jpg', 44: 'valid/horseshoe pitching/5.jpg', 45: 'valid/hurdles/5.jpg', 46: 'valid/hydroplane racing/5.jpg', 47: 'valid/ice climbing/5.jpg', 48: 'valid/ice yachting/5.jpg', 49: 'valid/jai alai/5.jpg', 50: 'valid/javelin/5.jpg', 51: 'valid/jousting/5.jpg', 52: 'valid/judo/5.jpg', 53: 'valid/lacrosse/5.jpg', 54: 'valid/log rolling/5.jpg', 55: 'valid/luge/5.jpg', 56: 'valid/motorcycle racing/5.jpg', 57: 'valid/mushing/5.jpg', 58: 'valid/nascar racing/5.jpg', 59: 'valid/olympic wrestling/5.jpg', 60: 'valid/parallel bar/5.jpg', 61: 'valid/pole climbing/5.jpg', 62: 'valid/pole dancing/5.jpg', 63: 'valid/pole vault/5.jpg', 64: 'valid/polo/5.jpg', 65: 'valid/pommel horse/5.jpg', 66: 'valid/rings/5.jpg', 67: 'valid/rock climbing/5.jpg', 68: 'valid/roller derby/5.jpg', 69: 'valid/rollerblade racing/5.jpg', 70: 'valid/rowing/5.jpg', 71: 'valid/rugby/5.jpg', 72: 'valid/sailboat racing/5.jpg', 73: 'valid/shot put/5.jpg', 74: 'valid/shuffleboard/5.jpg', 75: 'valid/sidecar racing/5.jpg', 76: 'valid/ski jumping/5.jpg', 77: 'valid/sky surfing/5.jpg', 78: 'valid/skydiving/5.jpg', 79: 'valid/snow boarding/5.jpg', 80: 'valid/snowmobile racing/5.jpg', 81: 'valid/speed skating/5.jpg', 82: 'valid/steer wrestling/5.jpg', 83: 'valid/sumo wrestling/5.jpg', 84: 'valid/surfing/5.jpg', 85: 'valid/swimming/5.jpg', 86: 'valid/table tennis/5.jpg', 87: 'valid/tennis/5.jpg', 88: 'valid/track bicycle/5.jpg', 89: 'valid/trapeze/5.jpg', 90: 'valid/tug of war/5.jpg', 91: 'valid/ultimate/5.jpg', 92: 'valid/uneven bars/5.jpg', 93: 'valid/volleyball/5.jpg', 94: 'valid/water cycling/5.jpg', 95: 'valid/water polo/5.jpg', 96: 'valid/weightlifting/5.jpg', 97: 'valid/wheelchair basketball/5.jpg', 98: 'valid/wheelchair racing/5.jpg', 99: 'valid/wingsuit flying/5.jpg'}\n",
      "valid/speed skating/5.jpg,valid/shuffleboard/5.jpg,valid/javelin/5.jpg,valid/fly fishing/5.jpg,valid/skydiving/5.jpg,valid/sailboat racing/5.jpg,valid/pole climbing/5.jpg,valid/croquet/5.jpg\n"
     ]
    },
    {
     "data": {
      "image/png": "[encoded data removed]",
      "text/plain": [
       "<Figure size 1500x500 with 1 Axes>"
      ]
     },
     "metadata": {},
     "output_type": "display_data"
    }
   ],
   "source": [
    "# from dataset import SportDataset\n",
    "# from utils import matplotlib_imshow\n",
    "from torch.utils.data import Dataset, DataLoader\n",
    "from torchvision import transforms\n",
    "import torchvision\n",
    "import pandas as pd\n",
    "\n",
    "\n",
    "train_transform = transforms.Compose(\n",
    "    [\n",
    "    transforms.ToPILImage(mode='RGB'),\n",
    "    transforms.Resize(256),\n",
    "    transforms.CenterCrop(224),\n",
    "    transforms.RandomHorizontalFlip(0.5),\n",
    "    transforms.ToTensor()\n",
    "    ]\n",
    ")\n",
    "\n",
    "val_transform = transforms.transforms.Compose(\n",
    "    [\n",
    "    transforms.ToPILImage(mode='RGB'),\n",
    "    transforms.Resize(256),\n",
    "    transforms.CenterCrop(224),\n",
    "    transforms.ToTensor()\n",
    "    ]\n",
    ")\n",
    "\n",
    "train_ds = SportDataset(csv_file=csv_file, class_file=class_file, root_dir=root_dir, train=True, transform=train_transform)\n",
    "val_ds = SportDataset(csv_file=csv_file, class_file=class_file, root_dir=root_dir, train=False, transform=val_transform)\n",
    "\n",
    "train_loader = DataLoader(train_ds, batch_size=8, shuffle=True)\n",
    "val_loader = DataLoader(val_ds, batch_size=8, shuffle=False)\n",
    "\n",
    "class_df = pd.read_csv(class_file, usecols=['class id', 'filepaths', 'labels', 'data set'])\n",
    "class_dict = { row[0]:row[1] for i, row in class_df.iterrows()}\n",
    "print(\"class dict: \", class_dict)\n",
    "\n",
    "dataiter = iter(train_loader)\n",
    "data = next(dataiter)\n",
    "\n",
    "plt.rcParams['figure.figsize'] = [15, 5]\n",
    "# Create a grid from the images and show them\n",
    "img_grid = torchvision.utils.make_grid(data['image'])\n",
    "matplotlib_imshow(img_grid, one_channel=False)\n",
    "print(','.join(class_dict[data['labels'][j].item()] for j in range(8)))\n"
   ]
  },
  {
   "cell_type": "markdown",
   "metadata": {},
   "source": [
    "### TensorboardX for Logging\n",
    "logger.py"
   ]
  },
  {
   "cell_type": "code",
   "execution_count": 19,
   "metadata": {},
   "outputs": [],
   "source": [
    "from tensorboardX import SummaryWriter # have to install pip3 install tensorboardX\n",
    "import torch\n",
    "import os\n",
    "import errno\n",
    "\n",
    "\n",
    "class Logger:\n",
    "    def __init__(self, model_name, data_name):\n",
    "        self.model_name = model_name\n",
    "        self.data_name = data_name\n",
    "\n",
    "        self.comment = f'{model_name}_{data_name}'\n",
    "        self.data_subdir = f'{model_name}/{data_name}'\n",
    "\n",
    "        self.writer = SummaryWriter(comment=self.comment)\n",
    "\n",
    "\n",
    "    def loss_log(self, train_loss, val_loss, nth_epoch):\n",
    "        self.writer.add_scalars(\n",
    "            'Train vs Val Loss',\n",
    "            {'Training': train_loss, 'Validation': val_loss},\n",
    "            nth_epoch\n",
    "        )\n",
    "        \n",
    "    def acc_log(self, train_acc, val_acc, nth_epoch):\n",
    "        self.writer.add_scalars(\n",
    "            'Train vs Val Accuracy',\n",
    "            {'Training': train_acc, 'Validation': val_acc},\n",
    "            nth_epoch\n",
    "        )\n",
    "\n",
    "    def save_models(self, model, nth_epoch):\n",
    "        out_dir = f'saved/{self.model_name}'\n",
    "        Logger._make_dir(out_dir)\n",
    "        torch.save(\n",
    "            model.state_dict(),\n",
    "            f'{out_dir}/Ep.{nth_epoch}.pth'\n",
    "        )\n",
    "\n",
    "    def close(self):\n",
    "        self.writer.close()\n",
    "\n",
    "    @staticmethod\n",
    "    def _make_dir(directory):\n",
    "        try:\n",
    "            os.makedirs(directory)\n",
    "        except OSError as e:\n",
    "            if e.errno != errno.EEXIST:\n",
    "                raise\n",
    "\n",
    "    @staticmethod\n",
    "    def _step(epoch):\n",
    "        pass\n"
   ]
  },
  {
   "cell_type": "markdown",
   "metadata": {},
   "source": [
    "### Hyperparameters and Loss Function\n",
    "train.py"
   ]
  },
  {
   "cell_type": "code",
   "execution_count": 20,
   "metadata": {},
   "outputs": [],
   "source": [
    "import pandas as pd\n",
    "import time\n",
    "from tqdm import tqdm\n",
    "import torch\n",
    "import torch.nn as nn\n",
    "from torchvision.models.vision_transformer import vit_b_16 as ViT, ViT_B_16_Weights\n",
    "from torchvision import transforms\n",
    "from torch.utils.data import DataLoader\n",
    "# from dataset import SportDataset\n",
    "# from logger import Logger\n",
    "\n",
    "\n",
    "lr = 1e-5\n",
    "epoch_number = 0 # describe the starting epoch if you are continuing training\n",
    "EPOCHS = 30 # number of epochs to train\n",
    "model_name = 'vit_b16'\n",
    "dataset_name = 'sport_dataset'\n",
    "\n",
    "loss_fn = nn.CrossEntropyLoss()\n",
    "optimizer = torch.optim.SGD(model.parameters(), lr=lr, momentum=0.9)"
   ]
  },
  {
   "cell_type": "code",
   "execution_count": 21,
   "metadata": {},
   "outputs": [
    {
     "name": "stdout",
     "output_type": "stream",
     "text": [
      "EPOCH 1:\n"
     ]
    },
    {
     "name": "stderr",
     "output_type": "stream",
     "text": [
      "100%|██████████| 1687/1687 [07:01<00:00,  4.00it/s, loss=3.9] \n"
     ]
    },
    {
     "name": "stdout",
     "output_type": "stream",
     "text": [
      "Epoch 1 loss: 4.6310275244020325\n"
     ]
    },
    {
     "name": "stderr",
     "output_type": "stream",
     "text": [
      "100%|██████████| 63/63 [00:15<00:00,  4.19it/s, loss=4.05]\n"
     ]
    },
    {
     "name": "stdout",
     "output_type": "stream",
     "text": [
      "LOSS train 4.6310275244020325 valid 4.386344769644359\n",
      "Accuracy train 0.03037937358021736 valid 0.0674603208899498\n",
      "Epoch time taken: 7m 25s\n",
      "EPOCH 2:\n"
     ]
    },
    {
     "name": "stderr",
     "output_type": "stream",
     "text": [
      "100%|██████████| 1687/1687 [04:02<00:00,  6.94it/s, loss=4.08]\n"
     ]
    },
    {
     "name": "stdout",
     "output_type": "stream",
     "text": [
      "Epoch 2 loss: 4.078468590285839\n"
     ]
    },
    {
     "name": "stderr",
     "output_type": "stream",
     "text": [
      "100%|██████████| 63/63 [00:04<00:00, 14.11it/s, loss=3.81]\n"
     ]
    },
    {
     "name": "stdout",
     "output_type": "stream",
     "text": [
      "LOSS train 4.078468590285839 valid 3.7409335242377386\n",
      "Accuracy train 0.12136930227279663 valid 0.196428582072258\n",
      "Epoch time taken: 4m 19s\n",
      "EPOCH 3:\n"
     ]
    },
    {
     "name": "stderr",
     "output_type": "stream",
     "text": [
      "100%|██████████| 1687/1687 [04:04<00:00,  6.90it/s, loss=2.75]\n"
     ]
    },
    {
     "name": "stdout",
     "output_type": "stream",
     "text": [
      "Epoch 3 loss: 3.2431826651555657\n"
     ]
    },
    {
     "name": "stderr",
     "output_type": "stream",
     "text": [
      "100%|██████████| 63/63 [00:04<00:00, 13.97it/s, loss=3.44]\n"
     ]
    },
    {
     "name": "stdout",
     "output_type": "stream",
     "text": [
      "LOSS train 3.2431826651555657 valid 2.8014118330819264\n",
      "Accuracy train 0.32580024003982544 valid 0.4087301790714264\n",
      "Epoch time taken: 4m 24s\n",
      "EPOCH 4:\n"
     ]
    },
    {
     "name": "stderr",
     "output_type": "stream",
     "text": [
      "100%|██████████| 1687/1687 [04:04<00:00,  6.91it/s, loss=1.72]\n"
     ]
    },
    {
     "name": "stdout",
     "output_type": "stream",
     "text": [
      "Epoch 4 loss: 2.3552530301557044\n"
     ]
    },
    {
     "name": "stderr",
     "output_type": "stream",
     "text": [
      "100%|██████████| 63/63 [00:04<00:00, 14.36it/s, loss=2.69]\n"
     ]
    },
    {
     "name": "stdout",
     "output_type": "stream",
     "text": [
      "LOSS train 2.3552530301557044 valid 2.0137585628600347\n",
      "Accuracy train 0.5354920029640198 valid 0.5952381491661072\n",
      "Epoch time taken: 4m 9s\n",
      "EPOCH 5:\n"
     ]
    },
    {
     "name": "stderr",
     "output_type": "stream",
     "text": [
      "100%|██████████| 1687/1687 [04:04<00:00,  6.90it/s, loss=0.578]\n"
     ]
    },
    {
     "name": "stdout",
     "output_type": "stream",
     "text": [
      "Epoch 5 loss: 1.7207985377622625\n"
     ]
    },
    {
     "name": "stderr",
     "output_type": "stream",
     "text": [
      "100%|██████████| 63/63 [00:05<00:00, 11.77it/s, loss=2.04] \n"
     ]
    },
    {
     "name": "stdout",
     "output_type": "stream",
     "text": [
      "LOSS train 1.7207985377622625 valid 1.4976248287019276\n",
      "Accuracy train 0.6769413352012634 valid 0.7142857313156128\n",
      "Epoch time taken: 4m 10s\n",
      "EPOCH 6:\n"
     ]
    },
    {
     "name": "stderr",
     "output_type": "stream",
     "text": [
      "100%|██████████| 1687/1687 [04:07<00:00,  6.81it/s, loss=0.999]\n"
     ]
    },
    {
     "name": "stdout",
     "output_type": "stream",
     "text": [
      "Epoch 6 loss: 1.319813531216744\n"
     ]
    },
    {
     "name": "stderr",
     "output_type": "stream",
     "text": [
      "100%|██████████| 63/63 [00:04<00:00, 13.80it/s, loss=1.59] \n"
     ]
    },
    {
     "name": "stdout",
     "output_type": "stream",
     "text": [
      "LOSS train 1.319813531216744 valid 1.1779577292147136\n",
      "Accuracy train 0.7611885070800781 valid 0.7678571939468384\n",
      "Epoch time taken: 4m 13s\n",
      "EPOCH 7:\n"
     ]
    },
    {
     "name": "stderr",
     "output_type": "stream",
     "text": [
      "100%|██████████| 1687/1687 [04:05<00:00,  6.86it/s, loss=0.7]  \n"
     ]
    },
    {
     "name": "stdout",
     "output_type": "stream",
     "text": [
      "Epoch 7 loss: 1.0604892160034631\n"
     ]
    },
    {
     "name": "stderr",
     "output_type": "stream",
     "text": [
      "100%|██████████| 63/63 [00:04<00:00, 14.02it/s, loss=1.3]  \n"
     ]
    },
    {
     "name": "stdout",
     "output_type": "stream",
     "text": [
      "LOSS train 1.0604892160034631 valid 0.9731960060104491\n",
      "Accuracy train 0.8102400898933411 valid 0.80952388048172\n",
      "Epoch time taken: 4m 11s\n",
      "EPOCH 8:\n"
     ]
    },
    {
     "name": "stderr",
     "output_type": "stream",
     "text": [
      "100%|██████████| 1687/1687 [04:03<00:00,  6.92it/s, loss=1.05] \n"
     ]
    },
    {
     "name": "stdout",
     "output_type": "stream",
     "text": [
      "Epoch 8 loss: 0.884596886812192\n"
     ]
    },
    {
     "name": "stderr",
     "output_type": "stream",
     "text": [
      "100%|██████████| 63/63 [00:05<00:00, 12.20it/s, loss=1.08] \n"
     ]
    },
    {
     "name": "stdout",
     "output_type": "stream",
     "text": [
      "LOSS train 0.884596886812192 valid 0.8247329218993111\n",
      "Accuracy train 0.8425459861755371 valid 0.8412699103355408\n",
      "Epoch time taken: 4m 9s\n",
      "EPOCH 9:\n"
     ]
    },
    {
     "name": "stderr",
     "output_type": "stream",
     "text": [
      "100%|██████████| 1687/1687 [04:05<00:00,  6.88it/s, loss=0.283]\n"
     ]
    },
    {
     "name": "stdout",
     "output_type": "stream",
     "text": [
      "Epoch 9 loss: 0.7545688426310874\n"
     ]
    },
    {
     "name": "stderr",
     "output_type": "stream",
     "text": [
      "100%|██████████| 63/63 [00:04<00:00, 14.80it/s, loss=0.872]\n"
     ]
    },
    {
     "name": "stdout",
     "output_type": "stream",
     "text": [
      "LOSS train 0.7545688426310874 valid 0.7199134202230544\n",
      "Accuracy train 0.8670717477798462 valid 0.8591270446777344\n",
      "Epoch time taken: 4m 10s\n",
      "EPOCH 10:\n"
     ]
    },
    {
     "name": "stderr",
     "output_type": "stream",
     "text": [
      "100%|██████████| 1687/1687 [04:01<00:00,  6.98it/s, loss=0.953]\n"
     ]
    },
    {
     "name": "stdout",
     "output_type": "stream",
     "text": [
      "Epoch 10 loss: 0.6556830968846918\n"
     ]
    },
    {
     "name": "stderr",
     "output_type": "stream",
     "text": [
      "100%|██████████| 63/63 [00:04<00:00, 14.24it/s, loss=0.705]\n"
     ]
    },
    {
     "name": "stdout",
     "output_type": "stream",
     "text": [
      "LOSS train 0.6556830968846918 valid 0.645135794367109\n",
      "Accuracy train 0.8867071866989136 valid 0.865079402923584\n",
      "Epoch time taken: 4m 7s\n",
      "EPOCH 11:\n"
     ]
    },
    {
     "name": "stderr",
     "output_type": "stream",
     "text": [
      "100%|██████████| 1687/1687 [04:04<00:00,  6.91it/s, loss=0.21] \n"
     ]
    },
    {
     "name": "stdout",
     "output_type": "stream",
     "text": [
      "Epoch 11 loss: 0.5782337079633957\n"
     ]
    },
    {
     "name": "stderr",
     "output_type": "stream",
     "text": [
      "100%|██████████| 63/63 [00:04<00:00, 14.26it/s, loss=0.677]\n"
     ]
    },
    {
     "name": "stdout",
     "output_type": "stream",
     "text": [
      "LOSS train 0.5782337079633957 valid 0.5804337341161001\n",
      "Accuracy train 0.9034529328346252 valid 0.8849206566810608\n",
      "Epoch time taken: 4m 9s\n",
      "EPOCH 12:\n"
     ]
    },
    {
     "name": "stderr",
     "output_type": "stream",
     "text": [
      "100%|██████████| 1687/1687 [04:04<00:00,  6.89it/s, loss=0.321]\n"
     ]
    },
    {
     "name": "stdout",
     "output_type": "stream",
     "text": [
      "Epoch 12 loss: 0.5165893775590369\n"
     ]
    },
    {
     "name": "stderr",
     "output_type": "stream",
     "text": [
      "100%|██████████| 63/63 [00:04<00:00, 14.27it/s, loss=0.67] \n"
     ]
    },
    {
     "name": "stdout",
     "output_type": "stream",
     "text": [
      "LOSS train 0.5165893775590369 valid 0.5265306071156547\n",
      "Accuracy train 0.9149377942085266 valid 0.8968254327774048\n",
      "Epoch time taken: 4m 10s\n",
      "EPOCH 13:\n"
     ]
    },
    {
     "name": "stderr",
     "output_type": "stream",
     "text": [
      "100%|██████████| 1687/1687 [04:04<00:00,  6.90it/s, loss=0.25]  \n"
     ]
    },
    {
     "name": "stdout",
     "output_type": "stream",
     "text": [
      "Epoch 13 loss: 0.464236625554686\n"
     ]
    },
    {
     "name": "stderr",
     "output_type": "stream",
     "text": [
      "100%|██████████| 63/63 [00:04<00:00, 13.55it/s, loss=0.366]\n"
     ]
    },
    {
     "name": "stdout",
     "output_type": "stream",
     "text": [
      "LOSS train 0.464236625554686 valid 0.48551102644867367\n",
      "Accuracy train 0.9250889420509338 valid 0.9126984477043152\n",
      "Epoch time taken: 4m 9s\n",
      "EPOCH 14:\n"
     ]
    },
    {
     "name": "stderr",
     "output_type": "stream",
     "text": [
      "100%|██████████| 1687/1687 [04:07<00:00,  6.80it/s, loss=0.445] \n"
     ]
    },
    {
     "name": "stdout",
     "output_type": "stream",
     "text": [
      "Epoch 14 loss: 0.42022305689465034\n"
     ]
    },
    {
     "name": "stderr",
     "output_type": "stream",
     "text": [
      "100%|██████████| 63/63 [00:05<00:00, 12.54it/s, loss=0.397] \n"
     ]
    },
    {
     "name": "stdout",
     "output_type": "stream",
     "text": [
      "LOSS train 0.42022305689465034 valid 0.45394692983892226\n",
      "Accuracy train 0.9330172538757324 valid 0.900793731212616\n",
      "Epoch time taken: 4m 13s\n",
      "EPOCH 15:\n"
     ]
    },
    {
     "name": "stderr",
     "output_type": "stream",
     "text": [
      "100%|██████████| 1687/1687 [04:09<00:00,  6.77it/s, loss=0.349] \n"
     ]
    },
    {
     "name": "stdout",
     "output_type": "stream",
     "text": [
      "Epoch 15 loss: 0.38421046400412906\n"
     ]
    },
    {
     "name": "stderr",
     "output_type": "stream",
     "text": [
      "100%|██████████| 63/63 [00:05<00:00, 12.12it/s, loss=0.356] \n"
     ]
    },
    {
     "name": "stdout",
     "output_type": "stream",
     "text": [
      "LOSS train 0.38421046400412906 valid 0.4202717084969793\n",
      "Accuracy train 0.9377593994140625 valid 0.9265873432159424\n",
      "Epoch time taken: 4m 15s\n",
      "EPOCH 16:\n"
     ]
    },
    {
     "name": "stderr",
     "output_type": "stream",
     "text": [
      "100%|██████████| 1687/1687 [04:12<00:00,  6.68it/s, loss=0.265] \n"
     ]
    },
    {
     "name": "stdout",
     "output_type": "stream",
     "text": [
      "Epoch 16 loss: 0.35139752754408293\n"
     ]
    },
    {
     "name": "stderr",
     "output_type": "stream",
     "text": [
      "100%|██████████| 63/63 [00:05<00:00, 11.07it/s, loss=0.305]\n"
     ]
    },
    {
     "name": "stdout",
     "output_type": "stream",
     "text": [
      "LOSS train 0.35139752754408293 valid 0.39669846766997896\n",
      "Accuracy train 0.9481328129768372 valid 0.9285714626312256\n",
      "Epoch time taken: 4m 19s\n",
      "EPOCH 17:\n"
     ]
    },
    {
     "name": "stderr",
     "output_type": "stream",
     "text": [
      "100%|██████████| 1687/1687 [04:12<00:00,  6.68it/s, loss=0.22]  \n"
     ]
    },
    {
     "name": "stdout",
     "output_type": "stream",
     "text": [
      "Epoch 17 loss: 0.3231746858117244\n"
     ]
    },
    {
     "name": "stderr",
     "output_type": "stream",
     "text": [
      "100%|██████████| 63/63 [00:04<00:00, 12.62it/s, loss=0.281] \n"
     ]
    },
    {
     "name": "stdout",
     "output_type": "stream",
     "text": [
      "LOSS train 0.3231746858117244 valid 0.3797234743833542\n",
      "Accuracy train 0.9510225653648376 valid 0.9246032238006592\n",
      "Epoch time taken: 4m 18s\n",
      "EPOCH 18:\n"
     ]
    },
    {
     "name": "stderr",
     "output_type": "stream",
     "text": [
      "100%|██████████| 1687/1687 [04:03<00:00,  6.92it/s, loss=0.174] \n"
     ]
    },
    {
     "name": "stdout",
     "output_type": "stream",
     "text": [
      "Epoch 18 loss: 0.2993476204154544\n"
     ]
    },
    {
     "name": "stderr",
     "output_type": "stream",
     "text": [
      "100%|██████████| 63/63 [00:04<00:00, 14.10it/s, loss=0.262] \n"
     ]
    },
    {
     "name": "stdout",
     "output_type": "stream",
     "text": [
      "LOSS train 0.2993476204154544 valid 0.3556689765481722\n",
      "Accuracy train 0.9566538333892822 valid 0.93452388048172\n",
      "Epoch time taken: 4m 9s\n",
      "EPOCH 19:\n"
     ]
    },
    {
     "name": "stderr",
     "output_type": "stream",
     "text": [
      "100%|██████████| 1687/1687 [04:04<00:00,  6.89it/s, loss=0.213] \n"
     ]
    },
    {
     "name": "stdout",
     "output_type": "stream",
     "text": [
      "Epoch 19 loss: 0.27662778464016224\n"
     ]
    },
    {
     "name": "stderr",
     "output_type": "stream",
     "text": [
      "100%|██████████| 63/63 [00:04<00:00, 13.24it/s, loss=0.265] \n"
     ]
    },
    {
     "name": "stdout",
     "output_type": "stream",
     "text": [
      "LOSS train 0.27662778464016224 valid 0.3468529127301678\n",
      "Accuracy train 0.9614701271057129 valid 0.9206349849700928\n",
      "Epoch time taken: 4m 10s\n",
      "EPOCH 20:\n"
     ]
    },
    {
     "name": "stderr",
     "output_type": "stream",
     "text": [
      "100%|██████████| 1687/1687 [04:06<00:00,  6.84it/s, loss=0.255] \n"
     ]
    },
    {
     "name": "stdout",
     "output_type": "stream",
     "text": [
      "Epoch 20 loss: 0.2569910679686048\n"
     ]
    },
    {
     "name": "stderr",
     "output_type": "stream",
     "text": [
      "100%|██████████| 63/63 [00:04<00:00, 12.91it/s, loss=0.224] \n"
     ]
    },
    {
     "name": "stdout",
     "output_type": "stream",
     "text": [
      "LOSS train 0.2569910679686048 valid 0.3337080880171723\n",
      "Accuracy train 0.9658417701721191 valid 0.9265873432159424\n",
      "Epoch time taken: 4m 12s\n",
      "EPOCH 21:\n"
     ]
    },
    {
     "name": "stderr",
     "output_type": "stream",
     "text": [
      "100%|██████████| 1687/1687 [04:06<00:00,  6.84it/s, loss=0.0603]\n"
     ]
    },
    {
     "name": "stdout",
     "output_type": "stream",
     "text": [
      "Epoch 21 loss: 0.23954909577939237\n"
     ]
    },
    {
     "name": "stderr",
     "output_type": "stream",
     "text": [
      "100%|██████████| 63/63 [00:04<00:00, 12.83it/s, loss=0.245] \n"
     ]
    },
    {
     "name": "stdout",
     "output_type": "stream",
     "text": [
      "LOSS train 0.23954909577939237 valid 0.31473173833792173\n",
      "Accuracy train 0.9708802700042725 valid 0.93452388048172\n",
      "Epoch time taken: 4m 12s\n",
      "EPOCH 22:\n"
     ]
    },
    {
     "name": "stderr",
     "output_type": "stream",
     "text": [
      "100%|██████████| 1687/1687 [04:09<00:00,  6.75it/s, loss=0.401] \n"
     ]
    },
    {
     "name": "stdout",
     "output_type": "stream",
     "text": [
      "Epoch 22 loss: 0.22333891241395515\n"
     ]
    },
    {
     "name": "stderr",
     "output_type": "stream",
     "text": [
      "100%|██████████| 63/63 [00:05<00:00, 11.91it/s, loss=0.206] \n"
     ]
    },
    {
     "name": "stdout",
     "output_type": "stream",
     "text": [
      "LOSS train 0.22333891241395515 valid 0.30527329640019507\n",
      "Accuracy train 0.973770022392273 valid 0.9305555820465088\n",
      "Epoch time taken: 4m 16s\n",
      "EPOCH 23:\n"
     ]
    },
    {
     "name": "stderr",
     "output_type": "stream",
     "text": [
      "100%|██████████| 1687/1687 [04:10<00:00,  6.72it/s, loss=0.0486]\n"
     ]
    },
    {
     "name": "stdout",
     "output_type": "stream",
     "text": [
      "Epoch 23 loss: 0.20899958729249313\n"
     ]
    },
    {
     "name": "stderr",
     "output_type": "stream",
     "text": [
      "100%|██████████| 63/63 [00:05<00:00, 11.88it/s, loss=0.187] \n"
     ]
    },
    {
     "name": "stdout",
     "output_type": "stream",
     "text": [
      "LOSS train 0.20899958729249313 valid 0.2944887761795332\n",
      "Accuracy train 0.9756224155426025 valid 0.9384921193122864\n",
      "Epoch time taken: 4m 17s\n",
      "EPOCH 24:\n"
     ]
    },
    {
     "name": "stderr",
     "output_type": "stream",
     "text": [
      "100%|██████████| 1687/1687 [04:12<00:00,  6.68it/s, loss=0.255] \n"
     ]
    },
    {
     "name": "stdout",
     "output_type": "stream",
     "text": [
      "Epoch 24 loss: 0.19503946473383663\n"
     ]
    },
    {
     "name": "stderr",
     "output_type": "stream",
     "text": [
      "100%|██████████| 63/63 [00:04<00:00, 12.91it/s, loss=0.182] \n"
     ]
    },
    {
     "name": "stdout",
     "output_type": "stream",
     "text": [
      "LOSS train 0.19503946473383663 valid 0.28422641369795043\n",
      "Accuracy train 0.9802904725074768 valid 0.9464285969734192\n",
      "Epoch time taken: 4m 18s\n",
      "EPOCH 25:\n"
     ]
    },
    {
     "name": "stderr",
     "output_type": "stream",
     "text": [
      "100%|██████████| 1687/1687 [04:10<00:00,  6.74it/s, loss=0.466] \n"
     ]
    },
    {
     "name": "stdout",
     "output_type": "stream",
     "text": [
      "Epoch 25 loss: 0.184372657500362\n"
     ]
    },
    {
     "name": "stderr",
     "output_type": "stream",
     "text": [
      "100%|██████████| 63/63 [00:05<00:00, 11.72it/s, loss=0.166] \n"
     ]
    },
    {
     "name": "stdout",
     "output_type": "stream",
     "text": [
      "LOSS train 0.184372657500362 valid 0.27582762934385785\n",
      "Accuracy train 0.9818465113639832 valid 0.9424603581428528\n",
      "Epoch time taken: 4m 16s\n",
      "EPOCH 26:\n"
     ]
    },
    {
     "name": "stderr",
     "output_type": "stream",
     "text": [
      "100%|██████████| 1687/1687 [04:07<00:00,  6.82it/s, loss=0.251] \n"
     ]
    },
    {
     "name": "stdout",
     "output_type": "stream",
     "text": [
      "Epoch 26 loss: 0.17260986257832503\n"
     ]
    },
    {
     "name": "stderr",
     "output_type": "stream",
     "text": [
      "100%|██████████| 63/63 [00:05<00:00, 12.55it/s, loss=0.135] \n"
     ]
    },
    {
     "name": "stdout",
     "output_type": "stream",
     "text": [
      "LOSS train 0.17260986257832503 valid 0.2718368032208038\n",
      "Accuracy train 0.9833284020423889 valid 0.944444477558136\n",
      "Epoch time taken: 4m 13s\n",
      "EPOCH 27:\n"
     ]
    },
    {
     "name": "stderr",
     "output_type": "stream",
     "text": [
      "100%|██████████| 1687/1687 [04:10<00:00,  6.74it/s, loss=0.15]  \n"
     ]
    },
    {
     "name": "stdout",
     "output_type": "stream",
     "text": [
      "Epoch 27 loss: 0.16288538380052892\n"
     ]
    },
    {
     "name": "stderr",
     "output_type": "stream",
     "text": [
      "100%|██████████| 63/63 [00:05<00:00, 11.83it/s, loss=0.15]  \n"
     ]
    },
    {
     "name": "stdout",
     "output_type": "stream",
     "text": [
      "LOSS train 0.16288538380052892 valid 0.26507844335384784\n",
      "Accuracy train 0.9857736229896545 valid 0.9384921193122864\n",
      "Epoch time taken: 4m 16s\n",
      "EPOCH 28:\n"
     ]
    },
    {
     "name": "stderr",
     "output_type": "stream",
     "text": [
      "100%|██████████| 1687/1687 [04:13<00:00,  6.65it/s, loss=0.0725]\n"
     ]
    },
    {
     "name": "stdout",
     "output_type": "stream",
     "text": [
      "Epoch 28 loss: 0.1536554132942077\n"
     ]
    },
    {
     "name": "stderr",
     "output_type": "stream",
     "text": [
      "100%|██████████| 63/63 [00:05<00:00, 11.13it/s, loss=0.144] \n"
     ]
    },
    {
     "name": "stdout",
     "output_type": "stream",
     "text": [
      "LOSS train 0.1536554132942077 valid 0.26253080039861654\n",
      "Accuracy train 0.9862922430038452 valid 0.9384921193122864\n",
      "Epoch time taken: 4m 20s\n",
      "EPOCH 29:\n"
     ]
    },
    {
     "name": "stderr",
     "output_type": "stream",
     "text": [
      "100%|██████████| 1687/1687 [04:14<00:00,  6.62it/s, loss=0.125] \n"
     ]
    },
    {
     "name": "stdout",
     "output_type": "stream",
     "text": [
      "Epoch 29 loss: 0.14415813798982502\n"
     ]
    },
    {
     "name": "stderr",
     "output_type": "stream",
     "text": [
      "100%|██████████| 63/63 [00:06<00:00, 10.37it/s, loss=0.146] \n"
     ]
    },
    {
     "name": "stdout",
     "output_type": "stream",
     "text": [
      "LOSS train 0.14415813798982502 valid 0.2538830367109132\n",
      "Accuracy train 0.9878482818603516 valid 0.9424603581428528\n",
      "Epoch time taken: 4m 21s\n",
      "EPOCH 30:\n"
     ]
    },
    {
     "name": "stderr",
     "output_type": "stream",
     "text": [
      "100%|██████████| 1687/1687 [04:25<00:00,  6.36it/s, loss=0.0786]\n"
     ]
    },
    {
     "name": "stdout",
     "output_type": "stream",
     "text": [
      "Epoch 30 loss: 0.13773695703664332\n"
     ]
    },
    {
     "name": "stderr",
     "output_type": "stream",
     "text": [
      "100%|██████████| 63/63 [00:06<00:00, 10.45it/s, loss=0.133] \n"
     ]
    },
    {
     "name": "stdout",
     "output_type": "stream",
     "text": [
      "LOSS train 0.13773695703664332 valid 0.24541324146446727\n",
      "Accuracy train 0.9894784092903137 valid 0.9424603581428528\n",
      "Epoch time taken: 4m 32s\n",
      "Total time taken: 130m 21s\n"
     ]
    }
   ],
   "source": [
    "logger = Logger(model_name, dataset_name)\n",
    "\n",
    "\n",
    "best_vloss = 100000.\n",
    "# timestamp = datetime.now().strftime('%Y%m%d_%H%M%S')\n",
    "timestamp = time.time()\n",
    "\n",
    "for epoch in range(EPOCHS):\n",
    "    print('EPOCH {}:'.format(epoch_number + 1))\n",
    "    since = time.time()\n",
    "    # Make sure gradient tracking is on, and do a pass over the data\n",
    "    model.train(True)\n",
    "    running_loss = 0.\n",
    "    last_loss = 0.\n",
    "    running_acc = 0.\n",
    "    train_loop = tqdm(train_loader)\n",
    "    # Here, we use enumerate(training_loader) instead of\n",
    "    # iter(training_loader) so that we can track the batch\n",
    "    # index and do some intra-epoch reporting\n",
    "    for i, data in enumerate(train_loop):\n",
    "        # Every data instance is an input + label pair\n",
    "        inputs, labels = data['image'].to(device), data['labels'].long().to(device)\n",
    "\n",
    "        # Zero your gradients for every batch!\n",
    "        optimizer.zero_grad()\n",
    "\n",
    "        # Make predictions for this batch\n",
    "        outputs = model(inputs)\n",
    "\n",
    "        # Compute the loss and its gradients\n",
    "        loss = loss_fn(outputs, labels)\n",
    "        loss.backward()\n",
    "\n",
    "        # print(labels.shape, outputs.shape)\n",
    "        _, prediction = torch.max(outputs, dim=1)\n",
    "        corrects = (labels == (prediction)).sum() / len(labels)\n",
    "        running_acc += corrects\n",
    "\n",
    "        # Adjust learning weights\n",
    "        optimizer.step()\n",
    "\n",
    "        # Gather data and report\n",
    "        running_loss += loss.item()\n",
    "\n",
    "        train_loop.set_postfix(loss=loss.item())\n",
    "\n",
    "    avg_train_acc = running_acc/len(train_loader)\n",
    "    avg_train_loss = running_loss/len(train_loader)\n",
    "\n",
    "    print('Epoch {} loss: {}'.format(epoch_number+1, avg_train_loss))\n",
    "\n",
    "\n",
    "    # We don't need gradients on to do reporting\n",
    "    model.train(False)\n",
    "\n",
    "    vloop = tqdm(val_loader)\n",
    "    running_vloss = 0.0\n",
    "    running_vacc = 0.0\n",
    "    for i, data in enumerate(vloop):\n",
    "        inputs, labels = data['image'].to(device), data['labels'].long().to(device)\n",
    "        outputs = model(inputs)\n",
    "        loss = loss_fn(outputs, labels)\n",
    "        running_vloss += loss.item()\n",
    "\n",
    "        _, prediction = torch.max(outputs, dim=1)\n",
    "\n",
    "        corrects = (prediction == labels).sum() / len(labels)\n",
    "        running_vacc += corrects\n",
    "\n",
    "        vloop.set_postfix(loss=loss.item())\n",
    "\n",
    "    avg_vloss = running_vloss / len(val_loader)\n",
    "    print('LOSS train {} valid {}'.format(avg_train_loss, avg_vloss))\n",
    "\n",
    "    avg_vacc = running_vacc / len(val_loader)\n",
    "    print('Accuracy train {} valid {}'.format(avg_train_acc, avg_vacc))\n",
    "\n",
    "    # Log the running loss averaged per batch\n",
    "    # for both training and validation\n",
    "    logger.loss_log( train_loss=avg_train_loss,\n",
    "                    val_loss=avg_vloss, nth_epoch=epoch_number+1)\n",
    "\n",
    "    logger.acc_log( train_acc=avg_train_acc,\n",
    "                    val_acc=avg_vacc, nth_epoch=epoch_number+1)\n",
    "\n",
    "    # Track best performance, and save the model's state\n",
    "    if avg_vloss < best_vloss:\n",
    "        best_vloss = avg_vloss\n",
    "        model_path = 'model_{}_{}'.format(timestamp, epoch_number+1)\n",
    "        logger.save_models(model=model, nth_epoch=epoch_number+1)\n",
    "\n",
    "    ep_duration = time.time() - since\n",
    "    print(\"Epoch time taken: {:.0f}m {:.0f}s\".format(ep_duration // 60, ep_duration % 60))\n",
    "    epoch_number += 1\n",
    "\n",
    "total_time = time.time() - timestamp\n",
    "print(\"Total time taken: {:.0f}m {:.0f}s\".format(total_time // 60, total_time % 60))\n",
    "\n",
    "# GPU 3397MiB"
   ]
  },
  {
   "cell_type": "markdown",
   "metadata": {},
   "source": [
    "## To do on your own\n",
    "\n",
    "1. Manage your available resources and continue fine-tune on the same dataset. The pretrained weights at 7th epoch (accuracy = 70%%) is giving below link: (Hint: for batch_size = 8 on Puffer will used up 5GB of RAM in one GPU)\n",
    "\n",
    "    https://drive.google.com/file/d/1Fewu2rhbqw99THDGPzDMPzgSu8J5iHfO/view?usp=sharing\n",
    "\n",
    "    Feel free to download the file and continue fine-tuning with different settings. Make a challenge to achieve a better performance than my result (at 30th, I got 94%). There is no bound for the number of epochs to continue. (please don't forget to change the epoch_number=30)\n",
    "\n",
    "2. With your final fine-tuned weights, try to inference and get the result on images from \"test\" and \"images to predict\" directories in sport_dataset. Visualize some random inferenced images with their predictions.\n",
    "\n",
    "3. Describe your experience on fine-tuning and show the graphs.\n",
    "\n"
   ]
  }
 ],
 "metadata": {
  "kernelspec": {
   "display_name": "venv rtml",
   "language": "python",
   "name": "my_env"
  },
  "language_info": {
   "codemirror_mode": {
    "name": "ipython",
    "version": 3
   },
   "file_extension": ".py",
   "mimetype": "text/x-python",
   "name": "python",
   "nbconvert_exporter": "python",
   "pygments_lexer": "ipython3",
   "version": "3.12.6"
  }
 },
 "nbformat": 4,
 "nbformat_minor": 4
}
